{
 "cells": [
  {
   "cell_type": "code",
   "execution_count": 1,
   "id": "342073ba",
   "metadata": {
    "_cell_guid": "b1076dfc-b9ad-4769-8c92-a6c4dae69d19",
    "_uuid": "8f2839f25d086af736a60e9eeb907d3b93b6e0e5",
    "execution": {
     "iopub.execute_input": "2023-05-28T03:23:58.249907Z",
     "iopub.status.busy": "2023-05-28T03:23:58.249096Z",
     "iopub.status.idle": "2023-05-28T03:23:58.268610Z",
     "shell.execute_reply": "2023-05-28T03:23:58.267559Z"
    },
    "papermill": {
     "duration": 0.032382,
     "end_time": "2023-05-28T03:23:58.271579",
     "exception": false,
     "start_time": "2023-05-28T03:23:58.239197",
     "status": "completed"
    },
    "tags": []
   },
   "outputs": [
    {
     "name": "stdout",
     "output_type": "stream",
     "text": [
      "/kaggle/input/housing-prices-dataset/Housing.csv\n"
     ]
    }
   ],
   "source": [
    "# This Python 3 environment comes with many helpful analytics libraries installed\n",
    "# It is defined by the kaggle/python Docker image: https://github.com/kaggle/docker-python\n",
    "# For example, here's several helpful packages to load\n",
    "\n",
    "import numpy as np # linear algebra\n",
    "import pandas as pd # data processing, CSV file I/O (e.g. pd.read_csv)\n",
    "\n",
    "# Input data files are available in the read-only \"../input/\" directory\n",
    "# For example, running this (by clicking run or pressing Shift+Enter) will list all files under the input directory\n",
    "\n",
    "import os\n",
    "for dirname, _, filenames in os.walk('/kaggle/input'):\n",
    "    for filename in filenames:\n",
    "        print(os.path.join(dirname, filename))\n",
    "\n",
    "# You can write up to 20GB to the current directory (/kaggle/working/) that gets preserved as output when you create a version using \"Save & Run All\" \n",
    "# You can also write temporary files to /kaggle/temp/, but they won't be saved outside of the current session"
   ]
  },
  {
   "cell_type": "markdown",
   "id": "4d677227",
   "metadata": {
    "papermill": {
     "duration": 0.007601,
     "end_time": "2023-05-28T03:23:58.286681",
     "exception": false,
     "start_time": "2023-05-28T03:23:58.279080",
     "status": "completed"
    },
    "tags": []
   },
   "source": [
    "### Location which we worked on is one dimensional in summarizing a feature. Variability which is also refered as dispersion measures whethere data values are tightly clustered or spread out. It can also refrered as measures of dispersion, which will tell us how variety is our data, more the variety more variance. \n",
    "\n",
    "The key terms involved in the variability metrics are deviation, variance, standard deviation, mean absolute deviation, median absolute deviation from the median, range, percentile, Interquartile range."
   ]
  },
  {
   "cell_type": "markdown",
   "id": "08397bf9",
   "metadata": {
    "papermill": {
     "duration": 0.00691,
     "end_time": "2023-05-28T03:23:58.301084",
     "exception": false,
     "start_time": "2023-05-28T03:23:58.294174",
     "status": "completed"
    },
    "tags": []
   },
   "source": [
    "The most widely used estimates of variations are based on the differences or deviations between the estimate of location and the observed data."
   ]
  },
  {
   "cell_type": "code",
   "execution_count": 2,
   "id": "6685f376",
   "metadata": {
    "execution": {
     "iopub.execute_input": "2023-05-28T03:23:58.318365Z",
     "iopub.status.busy": "2023-05-28T03:23:58.317480Z",
     "iopub.status.idle": "2023-05-28T03:23:58.371948Z",
     "shell.execute_reply": "2023-05-28T03:23:58.370642Z"
    },
    "papermill": {
     "duration": 0.067432,
     "end_time": "2023-05-28T03:23:58.375809",
     "exception": false,
     "start_time": "2023-05-28T03:23:58.308377",
     "status": "completed"
    },
    "tags": []
   },
   "outputs": [
    {
     "data": {
      "text/html": [
       "<div>\n",
       "<style scoped>\n",
       "    .dataframe tbody tr th:only-of-type {\n",
       "        vertical-align: middle;\n",
       "    }\n",
       "\n",
       "    .dataframe tbody tr th {\n",
       "        vertical-align: top;\n",
       "    }\n",
       "\n",
       "    .dataframe thead th {\n",
       "        text-align: right;\n",
       "    }\n",
       "</style>\n",
       "<table border=\"1\" class=\"dataframe\">\n",
       "  <thead>\n",
       "    <tr style=\"text-align: right;\">\n",
       "      <th></th>\n",
       "      <th>price</th>\n",
       "      <th>area</th>\n",
       "      <th>bedrooms</th>\n",
       "      <th>bathrooms</th>\n",
       "      <th>stories</th>\n",
       "      <th>mainroad</th>\n",
       "      <th>guestroom</th>\n",
       "      <th>basement</th>\n",
       "      <th>hotwaterheating</th>\n",
       "      <th>airconditioning</th>\n",
       "      <th>parking</th>\n",
       "      <th>prefarea</th>\n",
       "      <th>furnishingstatus</th>\n",
       "    </tr>\n",
       "  </thead>\n",
       "  <tbody>\n",
       "    <tr>\n",
       "      <th>0</th>\n",
       "      <td>13300000</td>\n",
       "      <td>7420</td>\n",
       "      <td>4</td>\n",
       "      <td>2</td>\n",
       "      <td>3</td>\n",
       "      <td>yes</td>\n",
       "      <td>no</td>\n",
       "      <td>no</td>\n",
       "      <td>no</td>\n",
       "      <td>yes</td>\n",
       "      <td>2</td>\n",
       "      <td>yes</td>\n",
       "      <td>furnished</td>\n",
       "    </tr>\n",
       "    <tr>\n",
       "      <th>1</th>\n",
       "      <td>12250000</td>\n",
       "      <td>8960</td>\n",
       "      <td>4</td>\n",
       "      <td>4</td>\n",
       "      <td>4</td>\n",
       "      <td>yes</td>\n",
       "      <td>no</td>\n",
       "      <td>no</td>\n",
       "      <td>no</td>\n",
       "      <td>yes</td>\n",
       "      <td>3</td>\n",
       "      <td>no</td>\n",
       "      <td>furnished</td>\n",
       "    </tr>\n",
       "  </tbody>\n",
       "</table>\n",
       "</div>"
      ],
      "text/plain": [
       "      price  area  bedrooms  bathrooms  stories mainroad guestroom basement  \\\n",
       "0  13300000  7420         4          2        3      yes        no       no   \n",
       "1  12250000  8960         4          4        4      yes        no       no   \n",
       "\n",
       "  hotwaterheating airconditioning  parking prefarea furnishingstatus  \n",
       "0              no             yes        2      yes        furnished  \n",
       "1              no             yes        3       no        furnished  "
      ]
     },
     "execution_count": 2,
     "metadata": {},
     "output_type": "execute_result"
    }
   ],
   "source": [
    "import pandas as pd\n",
    "df=pd.read_csv(\"/kaggle/input/housing-prices-dataset/Housing.csv\")\n",
    "df.head(2)"
   ]
  },
  {
   "cell_type": "code",
   "execution_count": 3,
   "id": "9dda838f",
   "metadata": {
    "execution": {
     "iopub.execute_input": "2023-05-28T03:23:58.393462Z",
     "iopub.status.busy": "2023-05-28T03:23:58.392549Z",
     "iopub.status.idle": "2023-05-28T03:23:58.402153Z",
     "shell.execute_reply": "2023-05-28T03:23:58.401184Z"
    },
    "papermill": {
     "duration": 0.021029,
     "end_time": "2023-05-28T03:23:58.404384",
     "exception": false,
     "start_time": "2023-05-28T03:23:58.383355",
     "status": "completed"
    },
    "tags": []
   },
   "outputs": [
    {
     "name": "stdout",
     "output_type": "stream",
     "text": [
      "The mean of area feature is  5150.54128440367\n",
      "The meann abosolute deviation of area fetaure is  1701.6018516959853\n"
     ]
    }
   ],
   "source": [
    "print('The mean of area feature is ', df['area'].mean())\n",
    "print('The meann abosolute deviation of area fetaure is ',(df['area'] - df['area'].mean()).abs().mean() )"
   ]
  },
  {
   "cell_type": "code",
   "execution_count": 4,
   "id": "a1fa3ebc",
   "metadata": {
    "execution": {
     "iopub.execute_input": "2023-05-28T03:23:58.424091Z",
     "iopub.status.busy": "2023-05-28T03:23:58.423257Z",
     "iopub.status.idle": "2023-05-28T03:23:58.430514Z",
     "shell.execute_reply": "2023-05-28T03:23:58.429705Z"
    },
    "papermill": {
     "duration": 0.018517,
     "end_time": "2023-05-28T03:23:58.432656",
     "exception": false,
     "start_time": "2023-05-28T03:23:58.414139",
     "status": "completed"
    },
    "tags": []
   },
   "outputs": [
    {
     "name": "stdout",
     "output_type": "stream",
     "text": [
      "The mean of bedrooms feature is  2.9651376146788992\n",
      "The mean absolute deviation of bedrooms feature is  0.4961063883511488\n"
     ]
    }
   ],
   "source": [
    "print('The mean of bedrooms feature is ',df['bedrooms'].mean())\n",
    "print('The mean absolute deviation of bedrooms feature is ', (df['bedrooms'] - df['bedrooms'].mean()).abs().mean())"
   ]
  },
  {
   "cell_type": "code",
   "execution_count": 5,
   "id": "eab37f5b",
   "metadata": {
    "execution": {
     "iopub.execute_input": "2023-05-28T03:23:58.450867Z",
     "iopub.status.busy": "2023-05-28T03:23:58.449940Z",
     "iopub.status.idle": "2023-05-28T03:23:58.458543Z",
     "shell.execute_reply": "2023-05-28T03:23:58.457386Z"
    },
    "papermill": {
     "duration": 0.020694,
     "end_time": "2023-05-28T03:23:58.461099",
     "exception": false,
     "start_time": "2023-05-28T03:23:58.440405",
     "status": "completed"
    },
    "tags": []
   },
   "outputs": [
    {
     "name": "stdout",
     "output_type": "stream",
     "text": [
      "The mean of bathrooms feature is  1.2862385321100918\n",
      "The mean absolute deviation of bathrooms features is  0.4212170692702635\n"
     ]
    }
   ],
   "source": [
    "print('The mean of bathrooms feature is ', df['bathrooms'].mean())\n",
    "print('The mean absolute deviation of bathrooms features is ', (df['bathrooms'] - df['bathrooms'].mean()).abs().mean())"
   ]
  },
  {
   "cell_type": "code",
   "execution_count": 6,
   "id": "f9861773",
   "metadata": {
    "execution": {
     "iopub.execute_input": "2023-05-28T03:23:58.479654Z",
     "iopub.status.busy": "2023-05-28T03:23:58.479150Z",
     "iopub.status.idle": "2023-05-28T03:23:58.491003Z",
     "shell.execute_reply": "2023-05-28T03:23:58.489587Z"
    },
    "papermill": {
     "duration": 0.024411,
     "end_time": "2023-05-28T03:23:58.493730",
     "exception": false,
     "start_time": "2023-05-28T03:23:58.469319",
     "status": "completed"
    },
    "tags": []
   },
   "outputs": [
    {
     "name": "stdout",
     "output_type": "stream",
     "text": [
      "The mean of stories is 1.8055045871559634\n",
      "The mean absolute deviation of stories is  0.6710074909519401\n"
     ]
    }
   ],
   "source": [
    "print('The mean of stories is',df['stories'].mean())\n",
    "print('The mean absolute deviation of stories is ', (df['stories'] - df['stories'].mean()).abs().mean())"
   ]
  },
  {
   "cell_type": "code",
   "execution_count": 7,
   "id": "f8d7ceab",
   "metadata": {
    "execution": {
     "iopub.execute_input": "2023-05-28T03:23:58.513999Z",
     "iopub.status.busy": "2023-05-28T03:23:58.512837Z",
     "iopub.status.idle": "2023-05-28T03:23:58.523374Z",
     "shell.execute_reply": "2023-05-28T03:23:58.521950Z"
    },
    "papermill": {
     "duration": 0.023898,
     "end_time": "2023-05-28T03:23:58.526546",
     "exception": false,
     "start_time": "2023-05-28T03:23:58.502648",
     "status": "completed"
    },
    "tags": []
   },
   "outputs": [
    {
     "name": "stdout",
     "output_type": "stream",
     "text": [
      "The mean of parking is 0.6935779816513762\n",
      "the mean absolute deviation of parking is  0.7610268495917851\n"
     ]
    }
   ],
   "source": [
    "print('The mean of parking is', df['parking'].mean())\n",
    "print('the mean absolute deviation of parking is ',(df['parking'] - df['parking'].mean()).abs().mean())"
   ]
  },
  {
   "cell_type": "markdown",
   "id": "3911788c",
   "metadata": {
    "papermill": {
     "duration": 0.008658,
     "end_time": "2023-05-28T03:23:58.544386",
     "exception": false,
     "start_time": "2023-05-28T03:23:58.535728",
     "status": "completed"
    },
    "tags": []
   },
   "source": [
    "The best known estimates of variability are variance and standard deviation which are based on squared deviations.SD is easy to interpret since it is on same scale as orginal data. "
   ]
  },
  {
   "cell_type": "code",
   "execution_count": 8,
   "id": "771d72fa",
   "metadata": {
    "execution": {
     "iopub.execute_input": "2023-05-28T03:23:58.565938Z",
     "iopub.status.busy": "2023-05-28T03:23:58.565045Z",
     "iopub.status.idle": "2023-05-28T03:23:58.573657Z",
     "shell.execute_reply": "2023-05-28T03:23:58.572299Z"
    },
    "papermill": {
     "duration": 0.023531,
     "end_time": "2023-05-28T03:23:58.576899",
     "exception": false,
     "start_time": "2023-05-28T03:23:58.553368",
     "status": "completed"
    },
    "tags": []
   },
   "outputs": [
    {
     "name": "stdout",
     "output_type": "stream",
     "text": [
      "The variance of the area feature is  4709512.057575554\n",
      "The standard deviation of the area feature is  2170.141022508803\n"
     ]
    }
   ],
   "source": [
    "print('The variance of the area feature is ', df['area'].var())\n",
    "print('The standard deviation of the area feature is ', df['area'].std())"
   ]
  },
  {
   "cell_type": "code",
   "execution_count": 9,
   "id": "f47651da",
   "metadata": {
    "execution": {
     "iopub.execute_input": "2023-05-28T03:23:58.596798Z",
     "iopub.status.busy": "2023-05-28T03:23:58.596314Z",
     "iopub.status.idle": "2023-05-28T03:23:58.605944Z",
     "shell.execute_reply": "2023-05-28T03:23:58.604397Z"
    },
    "papermill": {
     "duration": 0.023085,
     "end_time": "2023-05-28T03:23:58.609144",
     "exception": false,
     "start_time": "2023-05-28T03:23:58.586059",
     "status": "completed"
    },
    "tags": []
   },
   "outputs": [
    {
     "name": "stdout",
     "output_type": "stream",
     "text": [
      "The variance of the bedrooms feature is  0.544738262277388\n",
      "The standard deviation of the bedrooms feature is  0.7380638605685743\n"
     ]
    }
   ],
   "source": [
    "print('The variance of the bedrooms feature is ', df['bedrooms'].var())\n",
    "print('The standard deviation of the bedrooms feature is ', df['bedrooms'].std())"
   ]
  },
  {
   "cell_type": "code",
   "execution_count": 10,
   "id": "3ab1a25d",
   "metadata": {
    "execution": {
     "iopub.execute_input": "2023-05-28T03:23:58.629720Z",
     "iopub.status.busy": "2023-05-28T03:23:58.628868Z",
     "iopub.status.idle": "2023-05-28T03:23:58.636826Z",
     "shell.execute_reply": "2023-05-28T03:23:58.635556Z"
    },
    "papermill": {
     "duration": 0.021198,
     "end_time": "2023-05-28T03:23:58.639777",
     "exception": false,
     "start_time": "2023-05-28T03:23:58.618579",
     "status": "completed"
    },
    "tags": []
   },
   "outputs": [
    {
     "name": "stdout",
     "output_type": "stream",
     "text": [
      "The variance of the bathrooms feature is  0.2524757150566649\n",
      "The standard deviation of the bathrooms feature is 0.5024696160532146\n"
     ]
    }
   ],
   "source": [
    "print('The variance of the bathrooms feature is ', df['bathrooms'].var())\n",
    "print('The standard deviation of the bathrooms feature is', df['bathrooms'].std())"
   ]
  },
  {
   "cell_type": "code",
   "execution_count": 11,
   "id": "a78aa58a",
   "metadata": {
    "execution": {
     "iopub.execute_input": "2023-05-28T03:23:58.659483Z",
     "iopub.status.busy": "2023-05-28T03:23:58.658985Z",
     "iopub.status.idle": "2023-05-28T03:23:58.666745Z",
     "shell.execute_reply": "2023-05-28T03:23:58.665399Z"
    },
    "papermill": {
     "duration": 0.021494,
     "end_time": "2023-05-28T03:23:58.669751",
     "exception": false,
     "start_time": "2023-05-28T03:23:58.648257",
     "status": "completed"
    },
    "tags": []
   },
   "outputs": [
    {
     "name": "stdout",
     "output_type": "stream",
     "text": [
      "The variance of the stories feature is 0.7525431732325958\n",
      "The standard deviation of stories feature is  0.8674924629255264\n"
     ]
    }
   ],
   "source": [
    "print('The variance of the stories feature is', df['stories'].var())\n",
    "print('The standard deviation of stories feature is ',df['stories'].std())"
   ]
  },
  {
   "cell_type": "code",
   "execution_count": 12,
   "id": "f7da0c90",
   "metadata": {
    "execution": {
     "iopub.execute_input": "2023-05-28T03:23:58.688937Z",
     "iopub.status.busy": "2023-05-28T03:23:58.688392Z",
     "iopub.status.idle": "2023-05-28T03:23:58.697431Z",
     "shell.execute_reply": "2023-05-28T03:23:58.695948Z"
    },
    "papermill": {
     "duration": 0.022376,
     "end_time": "2023-05-28T03:23:58.700595",
     "exception": false,
     "start_time": "2023-05-28T03:23:58.678219",
     "status": "completed"
    },
    "tags": []
   },
   "outputs": [
    {
     "name": "stdout",
     "output_type": "stream",
     "text": [
      "The variance of parking feature is  0.7423300053966541\n",
      "The standard deviation of parking feature is  0.8615857504605412\n"
     ]
    }
   ],
   "source": [
    "print('The variance of parking feature is ', df['parking'].var())\n",
    "print('The standard deviation of parking feature is ', df['parking'].std())"
   ]
  },
  {
   "cell_type": "markdown",
   "id": "bc98c537",
   "metadata": {
    "papermill": {
     "duration": 0.007993,
     "end_time": "2023-05-28T03:23:58.717130",
     "exception": false,
     "start_time": "2023-05-28T03:23:58.709137",
     "status": "completed"
    },
    "tags": []
   },
   "source": [
    "All mean absolute deviation, variance, standard deviation are not robust to outliers and extreme values. They are sensitive since they are based on squared deviations. A robust estimate of variability is median absolute deviation. "
   ]
  },
  {
   "cell_type": "code",
   "execution_count": 13,
   "id": "698db202",
   "metadata": {
    "execution": {
     "iopub.execute_input": "2023-05-28T03:23:58.735723Z",
     "iopub.status.busy": "2023-05-28T03:23:58.735264Z",
     "iopub.status.idle": "2023-05-28T03:23:58.748287Z",
     "shell.execute_reply": "2023-05-28T03:23:58.747026Z"
    },
    "papermill": {
     "duration": 0.025022,
     "end_time": "2023-05-28T03:23:58.750595",
     "exception": false,
     "start_time": "2023-05-28T03:23:58.725573",
     "status": "completed"
    },
    "tags": []
   },
   "outputs": [
    {
     "data": {
      "text/plain": [
       "1390.0"
      ]
     },
     "execution_count": 13,
     "metadata": {},
     "output_type": "execute_result"
    }
   ],
   "source": [
    "median_area=df['area'].median()\n",
    "df['MAD column area']=[abs(eacharea-median_area) for eacharea in df['area']]\n",
    "df['MAD column area'].median()"
   ]
  },
  {
   "cell_type": "code",
   "execution_count": 14,
   "id": "03bcf520",
   "metadata": {
    "execution": {
     "iopub.execute_input": "2023-05-28T03:23:58.769779Z",
     "iopub.status.busy": "2023-05-28T03:23:58.769354Z",
     "iopub.status.idle": "2023-05-28T03:23:58.780809Z",
     "shell.execute_reply": "2023-05-28T03:23:58.779935Z"
    },
    "papermill": {
     "duration": 0.023905,
     "end_time": "2023-05-28T03:23:58.782986",
     "exception": false,
     "start_time": "2023-05-28T03:23:58.759081",
     "status": "completed"
    },
    "tags": []
   },
   "outputs": [
    {
     "data": {
      "text/plain": [
       "0.0"
      ]
     },
     "execution_count": 14,
     "metadata": {},
     "output_type": "execute_result"
    }
   ],
   "source": [
    "median_bedrooms=df['bedrooms'].median()\n",
    "df['MAD column bedrooms']=[abs(eachbedrooms-median_bedrooms) for eachbedrooms in df['bedrooms']]\n",
    "df['MAD column bedrooms'].median()"
   ]
  },
  {
   "cell_type": "code",
   "execution_count": 15,
   "id": "8454697c",
   "metadata": {
    "execution": {
     "iopub.execute_input": "2023-05-28T03:23:58.803193Z",
     "iopub.status.busy": "2023-05-28T03:23:58.802726Z",
     "iopub.status.idle": "2023-05-28T03:23:58.813756Z",
     "shell.execute_reply": "2023-05-28T03:23:58.812488Z"
    },
    "papermill": {
     "duration": 0.024199,
     "end_time": "2023-05-28T03:23:58.816004",
     "exception": false,
     "start_time": "2023-05-28T03:23:58.791805",
     "status": "completed"
    },
    "tags": []
   },
   "outputs": [
    {
     "data": {
      "text/plain": [
       "0.0"
      ]
     },
     "execution_count": 15,
     "metadata": {},
     "output_type": "execute_result"
    }
   ],
   "source": [
    "median_bathrooms=df['bathrooms'].median()\n",
    "df['MAD column bathrooms']=[abs(eachbathrooms-median_bathrooms) for eachbathrooms in df['bathrooms']]\n",
    "df['MAD column bathrooms'].median()"
   ]
  },
  {
   "cell_type": "code",
   "execution_count": 16,
   "id": "4ad657ef",
   "metadata": {
    "execution": {
     "iopub.execute_input": "2023-05-28T03:23:58.836335Z",
     "iopub.status.busy": "2023-05-28T03:23:58.835297Z",
     "iopub.status.idle": "2023-05-28T03:23:58.846929Z",
     "shell.execute_reply": "2023-05-28T03:23:58.846028Z"
    },
    "papermill": {
     "duration": 0.024338,
     "end_time": "2023-05-28T03:23:58.849177",
     "exception": false,
     "start_time": "2023-05-28T03:23:58.824839",
     "status": "completed"
    },
    "tags": []
   },
   "outputs": [
    {
     "data": {
      "text/plain": [
       "1.0"
      ]
     },
     "execution_count": 16,
     "metadata": {},
     "output_type": "execute_result"
    }
   ],
   "source": [
    "median_stories=df['stories'].median()\n",
    "df['MAD column stories']=[abs(eachstories-median_stories) for eachstories in df['stories']]\n",
    "df['MAD column stories'].median()"
   ]
  },
  {
   "cell_type": "code",
   "execution_count": 17,
   "id": "1de09fbc",
   "metadata": {
    "execution": {
     "iopub.execute_input": "2023-05-28T03:23:58.869763Z",
     "iopub.status.busy": "2023-05-28T03:23:58.868734Z",
     "iopub.status.idle": "2023-05-28T03:23:58.880147Z",
     "shell.execute_reply": "2023-05-28T03:23:58.878973Z"
    },
    "papermill": {
     "duration": 0.024739,
     "end_time": "2023-05-28T03:23:58.882917",
     "exception": false,
     "start_time": "2023-05-28T03:23:58.858178",
     "status": "completed"
    },
    "tags": []
   },
   "outputs": [
    {
     "data": {
      "text/plain": [
       "0.0"
      ]
     },
     "execution_count": 17,
     "metadata": {},
     "output_type": "execute_result"
    }
   ],
   "source": [
    "median_parking=df['parking'].median()\n",
    "df['MAD column parking']=[abs(eachparking-median_parking) for eachparking in df['parking']]\n",
    "df['MAD column parking'].median()"
   ]
  }
 ],
 "metadata": {
  "kernelspec": {
   "display_name": "Python 3",
   "language": "python",
   "name": "python3"
  },
  "language_info": {
   "codemirror_mode": {
    "name": "ipython",
    "version": 3
   },
   "file_extension": ".py",
   "mimetype": "text/x-python",
   "name": "python",
   "nbconvert_exporter": "python",
   "pygments_lexer": "ipython3",
   "version": "3.10.10"
  },
  "papermill": {
   "default_parameters": {},
   "duration": 16.173328,
   "end_time": "2023-05-28T03:24:00.115769",
   "environment_variables": {},
   "exception": null,
   "input_path": "__notebook__.ipynb",
   "output_path": "__notebook__.ipynb",
   "parameters": {},
   "start_time": "2023-05-28T03:23:43.942441",
   "version": "2.4.0"
  }
 },
 "nbformat": 4,
 "nbformat_minor": 5
}
