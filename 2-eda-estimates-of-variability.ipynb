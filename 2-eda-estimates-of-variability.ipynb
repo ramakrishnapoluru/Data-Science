{
 "cells": [
  {
   "cell_type": "code",
   "execution_count": 1,
   "id": "5850effb",
   "metadata": {
    "_cell_guid": "b1076dfc-b9ad-4769-8c92-a6c4dae69d19",
    "_uuid": "8f2839f25d086af736a60e9eeb907d3b93b6e0e5",
    "execution": {
     "iopub.execute_input": "2023-05-28T03:19:04.873210Z",
     "iopub.status.busy": "2023-05-28T03:19:04.872788Z",
     "iopub.status.idle": "2023-05-28T03:19:04.890755Z",
     "shell.execute_reply": "2023-05-28T03:19:04.889867Z"
    },
    "papermill": {
     "duration": 0.03022,
     "end_time": "2023-05-28T03:19:04.893180",
     "exception": false,
     "start_time": "2023-05-28T03:19:04.862960",
     "status": "completed"
    },
    "tags": []
   },
   "outputs": [
    {
     "name": "stdout",
     "output_type": "stream",
     "text": [
      "/kaggle/input/housing-prices-dataset/Housing.csv\n"
     ]
    }
   ],
   "source": [
    "# This Python 3 environment comes with many helpful analytics libraries installed\n",
    "# It is defined by the kaggle/python Docker image: https://github.com/kaggle/docker-python\n",
    "# For example, here's several helpful packages to load\n",
    "\n",
    "import numpy as np # linear algebra\n",
    "import pandas as pd # data processing, CSV file I/O (e.g. pd.read_csv)\n",
    "\n",
    "# Input data files are available in the read-only \"../input/\" directory\n",
    "# For example, running this (by clicking run or pressing Shift+Enter) will list all files under the input directory\n",
    "\n",
    "import os\n",
    "for dirname, _, filenames in os.walk('/kaggle/input'):\n",
    "    for filename in filenames:\n",
    "        print(os.path.join(dirname, filename))\n",
    "\n",
    "# You can write up to 20GB to the current directory (/kaggle/working/) that gets preserved as output when you create a version using \"Save & Run All\" \n",
    "# You can also write temporary files to /kaggle/temp/, but they won't be saved outside of the current session"
   ]
  },
  {
   "cell_type": "markdown",
   "id": "f5a98135",
   "metadata": {
    "papermill": {
     "duration": 0.007011,
     "end_time": "2023-05-28T03:19:04.907648",
     "exception": false,
     "start_time": "2023-05-28T03:19:04.900637",
     "status": "completed"
    },
    "tags": []
   },
   "source": [
    "### Location which we worked on is one dimensional in summarizing a feature. Variability which is also refered as dispersion measures whethere data values are tightly clustered or spread out. It can also refrered as measures of dispersion, which will tell us how variety is our data, more the variety more variance. \n",
    "\n",
    "The key terms involved in the variability metrics are deviation, variance, standard deviation, mean absolute deviation, median absolute deviation from the median, range, percentile, Interquartile range."
   ]
  },
  {
   "cell_type": "markdown",
   "id": "4167c5e1",
   "metadata": {
    "papermill": {
     "duration": 0.006971,
     "end_time": "2023-05-28T03:19:04.921869",
     "exception": false,
     "start_time": "2023-05-28T03:19:04.914898",
     "status": "completed"
    },
    "tags": []
   },
   "source": [
    "The most widely used estimates of variations are based on the differences or deviations between the estimate of location and the observed data."
   ]
  },
  {
   "cell_type": "code",
   "execution_count": 2,
   "id": "87af5300",
   "metadata": {
    "execution": {
     "iopub.execute_input": "2023-05-28T03:19:04.939021Z",
     "iopub.status.busy": "2023-05-28T03:19:04.938630Z",
     "iopub.status.idle": "2023-05-28T03:19:04.996936Z",
     "shell.execute_reply": "2023-05-28T03:19:04.995674Z"
    },
    "papermill": {
     "duration": 0.069499,
     "end_time": "2023-05-28T03:19:04.999321",
     "exception": false,
     "start_time": "2023-05-28T03:19:04.929822",
     "status": "completed"
    },
    "tags": []
   },
   "outputs": [
    {
     "data": {
      "text/html": [
       "<div>\n",
       "<style scoped>\n",
       "    .dataframe tbody tr th:only-of-type {\n",
       "        vertical-align: middle;\n",
       "    }\n",
       "\n",
       "    .dataframe tbody tr th {\n",
       "        vertical-align: top;\n",
       "    }\n",
       "\n",
       "    .dataframe thead th {\n",
       "        text-align: right;\n",
       "    }\n",
       "</style>\n",
       "<table border=\"1\" class=\"dataframe\">\n",
       "  <thead>\n",
       "    <tr style=\"text-align: right;\">\n",
       "      <th></th>\n",
       "      <th>price</th>\n",
       "      <th>area</th>\n",
       "      <th>bedrooms</th>\n",
       "      <th>bathrooms</th>\n",
       "      <th>stories</th>\n",
       "      <th>mainroad</th>\n",
       "      <th>guestroom</th>\n",
       "      <th>basement</th>\n",
       "      <th>hotwaterheating</th>\n",
       "      <th>airconditioning</th>\n",
       "      <th>parking</th>\n",
       "      <th>prefarea</th>\n",
       "      <th>furnishingstatus</th>\n",
       "    </tr>\n",
       "  </thead>\n",
       "  <tbody>\n",
       "    <tr>\n",
       "      <th>0</th>\n",
       "      <td>13300000</td>\n",
       "      <td>7420</td>\n",
       "      <td>4</td>\n",
       "      <td>2</td>\n",
       "      <td>3</td>\n",
       "      <td>yes</td>\n",
       "      <td>no</td>\n",
       "      <td>no</td>\n",
       "      <td>no</td>\n",
       "      <td>yes</td>\n",
       "      <td>2</td>\n",
       "      <td>yes</td>\n",
       "      <td>furnished</td>\n",
       "    </tr>\n",
       "    <tr>\n",
       "      <th>1</th>\n",
       "      <td>12250000</td>\n",
       "      <td>8960</td>\n",
       "      <td>4</td>\n",
       "      <td>4</td>\n",
       "      <td>4</td>\n",
       "      <td>yes</td>\n",
       "      <td>no</td>\n",
       "      <td>no</td>\n",
       "      <td>no</td>\n",
       "      <td>yes</td>\n",
       "      <td>3</td>\n",
       "      <td>no</td>\n",
       "      <td>furnished</td>\n",
       "    </tr>\n",
       "  </tbody>\n",
       "</table>\n",
       "</div>"
      ],
      "text/plain": [
       "      price  area  bedrooms  bathrooms  stories mainroad guestroom basement  \\\n",
       "0  13300000  7420         4          2        3      yes        no       no   \n",
       "1  12250000  8960         4          4        4      yes        no       no   \n",
       "\n",
       "  hotwaterheating airconditioning  parking prefarea furnishingstatus  \n",
       "0              no             yes        2      yes        furnished  \n",
       "1              no             yes        3       no        furnished  "
      ]
     },
     "execution_count": 2,
     "metadata": {},
     "output_type": "execute_result"
    }
   ],
   "source": [
    "import pandas as pd\n",
    "df=pd.read_csv(\"/kaggle/input/housing-prices-dataset/Housing.csv\")\n",
    "df.head(2)"
   ]
  },
  {
   "cell_type": "code",
   "execution_count": 3,
   "id": "bf250614",
   "metadata": {
    "execution": {
     "iopub.execute_input": "2023-05-28T03:19:05.018744Z",
     "iopub.status.busy": "2023-05-28T03:19:05.018345Z",
     "iopub.status.idle": "2023-05-28T03:19:05.027670Z",
     "shell.execute_reply": "2023-05-28T03:19:05.026343Z"
    },
    "papermill": {
     "duration": 0.023001,
     "end_time": "2023-05-28T03:19:05.030265",
     "exception": false,
     "start_time": "2023-05-28T03:19:05.007264",
     "status": "completed"
    },
    "tags": []
   },
   "outputs": [
    {
     "name": "stdout",
     "output_type": "stream",
     "text": [
      "The mean of area feature is  5150.54128440367\n",
      "The meann abosolute deviation of area fetaure is  1701.6018516959853\n"
     ]
    }
   ],
   "source": [
    "print('The mean of area feature is ', df['area'].mean())\n",
    "print('The meann abosolute deviation of area fetaure is ',(df['area'] - df['area'].mean()).abs().mean() )"
   ]
  },
  {
   "cell_type": "code",
   "execution_count": 4,
   "id": "14a16ba0",
   "metadata": {
    "execution": {
     "iopub.execute_input": "2023-05-28T03:19:05.048045Z",
     "iopub.status.busy": "2023-05-28T03:19:05.047655Z",
     "iopub.status.idle": "2023-05-28T03:19:05.054710Z",
     "shell.execute_reply": "2023-05-28T03:19:05.053572Z"
    },
    "papermill": {
     "duration": 0.019387,
     "end_time": "2023-05-28T03:19:05.057625",
     "exception": false,
     "start_time": "2023-05-28T03:19:05.038238",
     "status": "completed"
    },
    "tags": []
   },
   "outputs": [
    {
     "name": "stdout",
     "output_type": "stream",
     "text": [
      "The mean of bedrooms feature is  2.9651376146788992\n",
      "The mean absolute deviation of bedrooms feature is  0.4961063883511488\n"
     ]
    }
   ],
   "source": [
    "print('The mean of bedrooms feature is ',df['bedrooms'].mean())\n",
    "print('The mean absolute deviation of bedrooms feature is ', (df['bedrooms'] - df['bedrooms'].mean()).abs().mean())"
   ]
  },
  {
   "cell_type": "code",
   "execution_count": 5,
   "id": "beb02212",
   "metadata": {
    "execution": {
     "iopub.execute_input": "2023-05-28T03:19:05.075043Z",
     "iopub.status.busy": "2023-05-28T03:19:05.074659Z",
     "iopub.status.idle": "2023-05-28T03:19:05.082181Z",
     "shell.execute_reply": "2023-05-28T03:19:05.080902Z"
    },
    "papermill": {
     "duration": 0.019754,
     "end_time": "2023-05-28T03:19:05.085125",
     "exception": false,
     "start_time": "2023-05-28T03:19:05.065371",
     "status": "completed"
    },
    "tags": []
   },
   "outputs": [
    {
     "name": "stdout",
     "output_type": "stream",
     "text": [
      "The mean of bathrooms feature is  1.2862385321100918\n",
      "The mean absolute deviation of bathrooms features is  0.4212170692702635\n"
     ]
    }
   ],
   "source": [
    "print('The mean of bathrooms feature is ', df['bathrooms'].mean())\n",
    "print('The mean absolute deviation of bathrooms features is ', (df['bathrooms'] - df['bathrooms'].mean()).abs().mean())"
   ]
  },
  {
   "cell_type": "code",
   "execution_count": 6,
   "id": "6b10fc57",
   "metadata": {
    "execution": {
     "iopub.execute_input": "2023-05-28T03:19:05.103447Z",
     "iopub.status.busy": "2023-05-28T03:19:05.103053Z",
     "iopub.status.idle": "2023-05-28T03:19:05.110991Z",
     "shell.execute_reply": "2023-05-28T03:19:05.109533Z"
    },
    "papermill": {
     "duration": 0.020244,
     "end_time": "2023-05-28T03:19:05.113650",
     "exception": false,
     "start_time": "2023-05-28T03:19:05.093406",
     "status": "completed"
    },
    "tags": []
   },
   "outputs": [
    {
     "name": "stdout",
     "output_type": "stream",
     "text": [
      "The mean of stories is 1.8055045871559634\n",
      "The mean absolute deviation of stories is  0.6710074909519401\n"
     ]
    }
   ],
   "source": [
    "print('The mean of stories is',df['stories'].mean())\n",
    "print('The mean absolute deviation of stories is ', (df['stories'] - df['stories'].mean()).abs().mean())"
   ]
  },
  {
   "cell_type": "code",
   "execution_count": 7,
   "id": "df21c6b0",
   "metadata": {
    "execution": {
     "iopub.execute_input": "2023-05-28T03:19:05.131317Z",
     "iopub.status.busy": "2023-05-28T03:19:05.130945Z",
     "iopub.status.idle": "2023-05-28T03:19:05.138786Z",
     "shell.execute_reply": "2023-05-28T03:19:05.137385Z"
    },
    "papermill": {
     "duration": 0.019937,
     "end_time": "2023-05-28T03:19:05.141571",
     "exception": false,
     "start_time": "2023-05-28T03:19:05.121634",
     "status": "completed"
    },
    "tags": []
   },
   "outputs": [
    {
     "name": "stdout",
     "output_type": "stream",
     "text": [
      "The mean of parking is 0.6935779816513762\n",
      "the mean absolute deviation of parking is  0.7610268495917851\n"
     ]
    }
   ],
   "source": [
    "print('The mean of parking is', df['parking'].mean())\n",
    "print('the mean absolute deviation of parking is ',(df['parking'] - df['parking'].mean()).abs().mean())"
   ]
  },
  {
   "cell_type": "markdown",
   "id": "d5793f92",
   "metadata": {
    "papermill": {
     "duration": 0.008051,
     "end_time": "2023-05-28T03:19:05.157674",
     "exception": false,
     "start_time": "2023-05-28T03:19:05.149623",
     "status": "completed"
    },
    "tags": []
   },
   "source": [
    "The best known estimates of variability are variance and standard deviation which are based on squared deviations.SD is easy to interpret since it is on same scale as orginal data. "
   ]
  },
  {
   "cell_type": "code",
   "execution_count": 8,
   "id": "bb9e10e0",
   "metadata": {
    "execution": {
     "iopub.execute_input": "2023-05-28T03:19:05.176038Z",
     "iopub.status.busy": "2023-05-28T03:19:05.174826Z",
     "iopub.status.idle": "2023-05-28T03:19:05.182507Z",
     "shell.execute_reply": "2023-05-28T03:19:05.181195Z"
    },
    "papermill": {
     "duration": 0.019515,
     "end_time": "2023-05-28T03:19:05.185079",
     "exception": false,
     "start_time": "2023-05-28T03:19:05.165564",
     "status": "completed"
    },
    "tags": []
   },
   "outputs": [
    {
     "name": "stdout",
     "output_type": "stream",
     "text": [
      "The variance of the area feature is  4709512.057575554\n",
      "The standard deviation of the area feature is  2170.141022508803\n"
     ]
    }
   ],
   "source": [
    "print('The variance of the area feature is ', df['area'].var())\n",
    "print('The standard deviation of the area feature is ', df['area'].std())"
   ]
  },
  {
   "cell_type": "code",
   "execution_count": 9,
   "id": "0728cda7",
   "metadata": {
    "execution": {
     "iopub.execute_input": "2023-05-28T03:19:05.203619Z",
     "iopub.status.busy": "2023-05-28T03:19:05.202654Z",
     "iopub.status.idle": "2023-05-28T03:19:05.211213Z",
     "shell.execute_reply": "2023-05-28T03:19:05.209730Z"
    },
    "papermill": {
     "duration": 0.020651,
     "end_time": "2023-05-28T03:19:05.213813",
     "exception": false,
     "start_time": "2023-05-28T03:19:05.193162",
     "status": "completed"
    },
    "tags": []
   },
   "outputs": [
    {
     "name": "stdout",
     "output_type": "stream",
     "text": [
      "The variance of the bedrooms feature is  0.544738262277388\n",
      "The standard deviation of the bedrooms feature is  0.7380638605685743\n"
     ]
    }
   ],
   "source": [
    "print('The variance of the bedrooms feature is ', df['bedrooms'].var())\n",
    "print('The standard deviation of the bedrooms feature is ', df['bedrooms'].std())"
   ]
  },
  {
   "cell_type": "code",
   "execution_count": 10,
   "id": "142527af",
   "metadata": {
    "execution": {
     "iopub.execute_input": "2023-05-28T03:19:05.232229Z",
     "iopub.status.busy": "2023-05-28T03:19:05.231816Z",
     "iopub.status.idle": "2023-05-28T03:19:05.239545Z",
     "shell.execute_reply": "2023-05-28T03:19:05.237909Z"
    },
    "papermill": {
     "duration": 0.019915,
     "end_time": "2023-05-28T03:19:05.242051",
     "exception": false,
     "start_time": "2023-05-28T03:19:05.222136",
     "status": "completed"
    },
    "tags": []
   },
   "outputs": [
    {
     "name": "stdout",
     "output_type": "stream",
     "text": [
      "The variance of the bathrooms feature is  0.2524757150566649\n",
      "The standard deviation of the bathrooms feature is 0.5024696160532146\n"
     ]
    }
   ],
   "source": [
    "print('The variance of the bathrooms feature is ', df['bathrooms'].var())\n",
    "print('The standard deviation of the bathrooms feature is', df['bathrooms'].std())"
   ]
  },
  {
   "cell_type": "code",
   "execution_count": 11,
   "id": "8d299df9",
   "metadata": {
    "execution": {
     "iopub.execute_input": "2023-05-28T03:19:05.260956Z",
     "iopub.status.busy": "2023-05-28T03:19:05.260556Z",
     "iopub.status.idle": "2023-05-28T03:19:05.267740Z",
     "shell.execute_reply": "2023-05-28T03:19:05.266355Z"
    },
    "papermill": {
     "duration": 0.019472,
     "end_time": "2023-05-28T03:19:05.270011",
     "exception": false,
     "start_time": "2023-05-28T03:19:05.250539",
     "status": "completed"
    },
    "tags": []
   },
   "outputs": [
    {
     "name": "stdout",
     "output_type": "stream",
     "text": [
      "The variance of the stories feature is 0.7525431732325958\n",
      "The standard deviation of stories feature is  0.8674924629255264\n"
     ]
    }
   ],
   "source": [
    "print('The variance of the stories feature is', df['stories'].var())\n",
    "print('The standard deviation of stories feature is ',df['stories'].std())"
   ]
  },
  {
   "cell_type": "code",
   "execution_count": 12,
   "id": "ff0bf5c0",
   "metadata": {
    "execution": {
     "iopub.execute_input": "2023-05-28T03:19:05.288551Z",
     "iopub.status.busy": "2023-05-28T03:19:05.288083Z",
     "iopub.status.idle": "2023-05-28T03:19:05.296151Z",
     "shell.execute_reply": "2023-05-28T03:19:05.295003Z"
    },
    "papermill": {
     "duration": 0.020271,
     "end_time": "2023-05-28T03:19:05.298637",
     "exception": false,
     "start_time": "2023-05-28T03:19:05.278366",
     "status": "completed"
    },
    "tags": []
   },
   "outputs": [
    {
     "name": "stdout",
     "output_type": "stream",
     "text": [
      "The variance of parking feature is  0.7423300053966541\n",
      "The standard deviation of parking feature is  0.8615857504605412\n"
     ]
    }
   ],
   "source": [
    "print('The variance of parking feature is ', df['parking'].var())\n",
    "print('The standard deviation of parking feature is ', df['parking'].std())"
   ]
  },
  {
   "cell_type": "markdown",
   "id": "7d8c1598",
   "metadata": {
    "papermill": {
     "duration": 0.008305,
     "end_time": "2023-05-28T03:19:05.315357",
     "exception": false,
     "start_time": "2023-05-28T03:19:05.307052",
     "status": "completed"
    },
    "tags": []
   },
   "source": [
    "All mean absolute deviation, variance, standard deviation are not robust to outliers and extreme values. They are sensitive since they are based on squared deviations. A robust estimate of variability is median absolute deviation. "
   ]
  },
  {
   "cell_type": "code",
   "execution_count": 13,
   "id": "d93ff6a2",
   "metadata": {
    "execution": {
     "iopub.execute_input": "2023-05-28T03:19:05.334157Z",
     "iopub.status.busy": "2023-05-28T03:19:05.333746Z",
     "iopub.status.idle": "2023-05-28T03:19:05.347029Z",
     "shell.execute_reply": "2023-05-28T03:19:05.345779Z"
    },
    "papermill": {
     "duration": 0.025874,
     "end_time": "2023-05-28T03:19:05.349601",
     "exception": false,
     "start_time": "2023-05-28T03:19:05.323727",
     "status": "completed"
    },
    "tags": []
   },
   "outputs": [
    {
     "data": {
      "text/plain": [
       "1390.0"
      ]
     },
     "execution_count": 13,
     "metadata": {},
     "output_type": "execute_result"
    }
   ],
   "source": [
    "median_area=df['area'].median()\n",
    "df['MAD column area']=[abs(eacharea-median_area) for eacharea in df['area']]\n",
    "df['MAD column area'].median()"
   ]
  },
  {
   "cell_type": "code",
   "execution_count": 14,
   "id": "81364fbf",
   "metadata": {
    "execution": {
     "iopub.execute_input": "2023-05-28T03:19:05.369187Z",
     "iopub.status.busy": "2023-05-28T03:19:05.368324Z",
     "iopub.status.idle": "2023-05-28T03:19:05.380050Z",
     "shell.execute_reply": "2023-05-28T03:19:05.379129Z"
    },
    "papermill": {
     "duration": 0.024044,
     "end_time": "2023-05-28T03:19:05.382267",
     "exception": false,
     "start_time": "2023-05-28T03:19:05.358223",
     "status": "completed"
    },
    "tags": []
   },
   "outputs": [
    {
     "data": {
      "text/plain": [
       "0.0"
      ]
     },
     "execution_count": 14,
     "metadata": {},
     "output_type": "execute_result"
    }
   ],
   "source": [
    "median_bedrooms=df['bedrooms'].median()\n",
    "df['MAD column bedrooms']=[abs(eachbedrooms-median_bedrooms) for eachbedrooms in df['bedrooms']]\n",
    "df['MAD column bedrooms'].median()"
   ]
  },
  {
   "cell_type": "code",
   "execution_count": 15,
   "id": "28ccb9d5",
   "metadata": {
    "execution": {
     "iopub.execute_input": "2023-05-28T03:19:05.401793Z",
     "iopub.status.busy": "2023-05-28T03:19:05.401348Z",
     "iopub.status.idle": "2023-05-28T03:19:05.412424Z",
     "shell.execute_reply": "2023-05-28T03:19:05.411406Z"
    },
    "papermill": {
     "duration": 0.023648,
     "end_time": "2023-05-28T03:19:05.414731",
     "exception": false,
     "start_time": "2023-05-28T03:19:05.391083",
     "status": "completed"
    },
    "tags": []
   },
   "outputs": [
    {
     "data": {
      "text/plain": [
       "0.0"
      ]
     },
     "execution_count": 15,
     "metadata": {},
     "output_type": "execute_result"
    }
   ],
   "source": [
    "median_bathrooms=df['bathrooms'].median()\n",
    "df['MAD column bathrooms']=[abs(eachbathrooms-median_bathrooms) for eachbathrooms in df['bathrooms']]\n",
    "df['MAD column bathrooms'].median()"
   ]
  },
  {
   "cell_type": "code",
   "execution_count": 16,
   "id": "8195fbd5",
   "metadata": {
    "execution": {
     "iopub.execute_input": "2023-05-28T03:19:05.434206Z",
     "iopub.status.busy": "2023-05-28T03:19:05.433788Z",
     "iopub.status.idle": "2023-05-28T03:19:05.444479Z",
     "shell.execute_reply": "2023-05-28T03:19:05.443284Z"
    },
    "papermill": {
     "duration": 0.023406,
     "end_time": "2023-05-28T03:19:05.446930",
     "exception": false,
     "start_time": "2023-05-28T03:19:05.423524",
     "status": "completed"
    },
    "tags": []
   },
   "outputs": [
    {
     "data": {
      "text/plain": [
       "1.0"
      ]
     },
     "execution_count": 16,
     "metadata": {},
     "output_type": "execute_result"
    }
   ],
   "source": [
    "median_stories=df['stories'].median()\n",
    "df['MAD column stories']=[abs(eachstories-median_stories) for eachstories in df['stories']]\n",
    "df['MAD column stories'].median()"
   ]
  },
  {
   "cell_type": "code",
   "execution_count": 17,
   "id": "c0bebf0c",
   "metadata": {
    "execution": {
     "iopub.execute_input": "2023-05-28T03:19:05.467205Z",
     "iopub.status.busy": "2023-05-28T03:19:05.466829Z",
     "iopub.status.idle": "2023-05-28T03:19:05.477660Z",
     "shell.execute_reply": "2023-05-28T03:19:05.476416Z"
    },
    "papermill": {
     "duration": 0.024207,
     "end_time": "2023-05-28T03:19:05.480182",
     "exception": false,
     "start_time": "2023-05-28T03:19:05.455975",
     "status": "completed"
    },
    "tags": []
   },
   "outputs": [
    {
     "data": {
      "text/plain": [
       "0.0"
      ]
     },
     "execution_count": 17,
     "metadata": {},
     "output_type": "execute_result"
    }
   ],
   "source": [
    "median_parking=df['parking'].median()\n",
    "df['MAD column parking']=[abs(eachparking-median_parking) for eachparking in df['parking']]\n",
    "df['MAD column parking'].median()"
   ]
  },
  {
   "cell_type": "code",
   "execution_count": 18,
   "id": "2aaf1ca1",
   "metadata": {
    "execution": {
     "iopub.execute_input": "2023-05-28T03:19:05.500299Z",
     "iopub.status.busy": "2023-05-28T03:19:05.499888Z",
     "iopub.status.idle": "2023-05-28T03:19:05.506538Z",
     "shell.execute_reply": "2023-05-28T03:19:05.505382Z"
    },
    "papermill": {
     "duration": 0.019433,
     "end_time": "2023-05-28T03:19:05.508734",
     "exception": false,
     "start_time": "2023-05-28T03:19:05.489301",
     "status": "completed"
    },
    "tags": []
   },
   "outputs": [
    {
     "data": {
      "text/plain": [
       "3"
      ]
     },
     "execution_count": 18,
     "metadata": {},
     "output_type": "execute_result"
    }
   ],
   "source": [
    "3"
   ]
  }
 ],
 "metadata": {
  "kernelspec": {
   "display_name": "Python 3",
   "language": "python",
   "name": "python3"
  },
  "language_info": {
   "codemirror_mode": {
    "name": "ipython",
    "version": 3
   },
   "file_extension": ".py",
   "mimetype": "text/x-python",
   "name": "python",
   "nbconvert_exporter": "python",
   "pygments_lexer": "ipython3",
   "version": "3.10.10"
  },
  "papermill": {
   "default_parameters": {},
   "duration": 14.773665,
   "end_time": "2023-05-28T03:19:06.442296",
   "environment_variables": {},
   "exception": null,
   "input_path": "__notebook__.ipynb",
   "output_path": "__notebook__.ipynb",
   "parameters": {},
   "start_time": "2023-05-28T03:18:51.668631",
   "version": "2.4.0"
  }
 },
 "nbformat": 4,
 "nbformat_minor": 5
}
