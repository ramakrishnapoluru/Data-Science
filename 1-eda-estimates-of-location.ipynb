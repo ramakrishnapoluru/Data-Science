{
 "cells": [
  {
   "cell_type": "code",
   "execution_count": 1,
   "id": "2414db67",
   "metadata": {
    "_cell_guid": "b1076dfc-b9ad-4769-8c92-a6c4dae69d19",
    "_uuid": "8f2839f25d086af736a60e9eeb907d3b93b6e0e5",
    "execution": {
     "iopub.execute_input": "2023-05-28T01:07:52.793944Z",
     "iopub.status.busy": "2023-05-28T01:07:52.793553Z",
     "iopub.status.idle": "2023-05-28T01:07:52.811558Z",
     "shell.execute_reply": "2023-05-28T01:07:52.810527Z"
    },
    "papermill": {
     "duration": 0.028712,
     "end_time": "2023-05-28T01:07:52.814246",
     "exception": false,
     "start_time": "2023-05-28T01:07:52.785534",
     "status": "completed"
    },
    "tags": []
   },
   "outputs": [
    {
     "name": "stdout",
     "output_type": "stream",
     "text": [
      "/kaggle/input/housing-prices-dataset/Housing.csv\n"
     ]
    }
   ],
   "source": [
    "# This Python 3 environment comes with many helpful analytics libraries installed\n",
    "# It is defined by the kaggle/python Docker image: https://github.com/kaggle/docker-python\n",
    "# For example, here's several helpful packages to load\n",
    "\n",
    "import numpy as np # linear algebra\n",
    "import pandas as pd # data processing, CSV file I/O (e.g. pd.read_csv)\n",
    "\n",
    "# Input data files are available in the read-only \"../input/\" directory\n",
    "# For example, running this (by clicking run or pressing Shift+Enter) will list all files under the input directory\n",
    "\n",
    "import os\n",
    "for dirname, _, filenames in os.walk('/kaggle/input'):\n",
    "    for filename in filenames:\n",
    "        print(os.path.join(dirname, filename))\n",
    "\n",
    "# You can write up to 20GB to the current directory (/kaggle/working/) that gets preserved as output when you create a version using \"Save & Run All\" \n",
    "# You can also write temporary files to /kaggle/temp/, but they won't be saved outside of the current session"
   ]
  },
  {
   "cell_type": "markdown",
   "id": "56b79fa4",
   "metadata": {
    "papermill": {
     "duration": 0.005972,
     "end_time": "2023-05-28T01:07:52.826748",
     "exception": false,
     "start_time": "2023-05-28T01:07:52.820776",
     "status": "completed"
    },
    "tags": []
   },
   "source": [
    "### In this excercise we are going to perform the basic steps in exploring data to get a typical value for each feature or variable which is an estimate of where most of the data is located which we call central tendency.\n",
    "\n",
    "There are multiple ways in which we can achieve it\n",
    "\n",
    "Mean, Weighted Mean, Trimmed Mean, Median, Weighted Median,Percentile"
   ]
  },
  {
   "cell_type": "code",
   "execution_count": 2,
   "id": "6ef2e860",
   "metadata": {
    "execution": {
     "iopub.execute_input": "2023-05-28T01:07:52.840675Z",
     "iopub.status.busy": "2023-05-28T01:07:52.840290Z",
     "iopub.status.idle": "2023-05-28T01:07:52.892119Z",
     "shell.execute_reply": "2023-05-28T01:07:52.890988Z"
    },
    "papermill": {
     "duration": 0.061678,
     "end_time": "2023-05-28T01:07:52.894490",
     "exception": false,
     "start_time": "2023-05-28T01:07:52.832812",
     "status": "completed"
    },
    "tags": []
   },
   "outputs": [
    {
     "data": {
      "text/html": [
       "<div>\n",
       "<style scoped>\n",
       "    .dataframe tbody tr th:only-of-type {\n",
       "        vertical-align: middle;\n",
       "    }\n",
       "\n",
       "    .dataframe tbody tr th {\n",
       "        vertical-align: top;\n",
       "    }\n",
       "\n",
       "    .dataframe thead th {\n",
       "        text-align: right;\n",
       "    }\n",
       "</style>\n",
       "<table border=\"1\" class=\"dataframe\">\n",
       "  <thead>\n",
       "    <tr style=\"text-align: right;\">\n",
       "      <th></th>\n",
       "      <th>price</th>\n",
       "      <th>area</th>\n",
       "      <th>bedrooms</th>\n",
       "      <th>bathrooms</th>\n",
       "      <th>stories</th>\n",
       "      <th>mainroad</th>\n",
       "      <th>guestroom</th>\n",
       "      <th>basement</th>\n",
       "      <th>hotwaterheating</th>\n",
       "      <th>airconditioning</th>\n",
       "      <th>parking</th>\n",
       "      <th>prefarea</th>\n",
       "      <th>furnishingstatus</th>\n",
       "    </tr>\n",
       "  </thead>\n",
       "  <tbody>\n",
       "    <tr>\n",
       "      <th>0</th>\n",
       "      <td>13300000</td>\n",
       "      <td>7420</td>\n",
       "      <td>4</td>\n",
       "      <td>2</td>\n",
       "      <td>3</td>\n",
       "      <td>yes</td>\n",
       "      <td>no</td>\n",
       "      <td>no</td>\n",
       "      <td>no</td>\n",
       "      <td>yes</td>\n",
       "      <td>2</td>\n",
       "      <td>yes</td>\n",
       "      <td>furnished</td>\n",
       "    </tr>\n",
       "    <tr>\n",
       "      <th>1</th>\n",
       "      <td>12250000</td>\n",
       "      <td>8960</td>\n",
       "      <td>4</td>\n",
       "      <td>4</td>\n",
       "      <td>4</td>\n",
       "      <td>yes</td>\n",
       "      <td>no</td>\n",
       "      <td>no</td>\n",
       "      <td>no</td>\n",
       "      <td>yes</td>\n",
       "      <td>3</td>\n",
       "      <td>no</td>\n",
       "      <td>furnished</td>\n",
       "    </tr>\n",
       "  </tbody>\n",
       "</table>\n",
       "</div>"
      ],
      "text/plain": [
       "      price  area  bedrooms  bathrooms  stories mainroad guestroom basement  \\\n",
       "0  13300000  7420         4          2        3      yes        no       no   \n",
       "1  12250000  8960         4          4        4      yes        no       no   \n",
       "\n",
       "  hotwaterheating airconditioning  parking prefarea furnishingstatus  \n",
       "0              no             yes        2      yes        furnished  \n",
       "1              no             yes        3       no        furnished  "
      ]
     },
     "execution_count": 2,
     "metadata": {},
     "output_type": "execute_result"
    }
   ],
   "source": [
    "import pandas as pd\n",
    "df=pd.read_csv(\"/kaggle/input/housing-prices-dataset/Housing.csv\")\n",
    "df.head(2)"
   ]
  },
  {
   "cell_type": "code",
   "execution_count": 3,
   "id": "0ea2f60e",
   "metadata": {
    "execution": {
     "iopub.execute_input": "2023-05-28T01:07:52.909935Z",
     "iopub.status.busy": "2023-05-28T01:07:52.909278Z",
     "iopub.status.idle": "2023-05-28T01:07:52.936017Z",
     "shell.execute_reply": "2023-05-28T01:07:52.934906Z"
    },
    "papermill": {
     "duration": 0.037532,
     "end_time": "2023-05-28T01:07:52.938535",
     "exception": false,
     "start_time": "2023-05-28T01:07:52.901003",
     "status": "completed"
    },
    "tags": []
   },
   "outputs": [
    {
     "name": "stdout",
     "output_type": "stream",
     "text": [
      "<class 'pandas.core.frame.DataFrame'>\n",
      "RangeIndex: 545 entries, 0 to 544\n",
      "Data columns (total 13 columns):\n",
      " #   Column            Non-Null Count  Dtype \n",
      "---  ------            --------------  ----- \n",
      " 0   price             545 non-null    int64 \n",
      " 1   area              545 non-null    int64 \n",
      " 2   bedrooms          545 non-null    int64 \n",
      " 3   bathrooms         545 non-null    int64 \n",
      " 4   stories           545 non-null    int64 \n",
      " 5   mainroad          545 non-null    object\n",
      " 6   guestroom         545 non-null    object\n",
      " 7   basement          545 non-null    object\n",
      " 8   hotwaterheating   545 non-null    object\n",
      " 9   airconditioning   545 non-null    object\n",
      " 10  parking           545 non-null    int64 \n",
      " 11  prefarea          545 non-null    object\n",
      " 12  furnishingstatus  545 non-null    object\n",
      "dtypes: int64(6), object(7)\n",
      "memory usage: 55.5+ KB\n"
     ]
    }
   ],
   "source": [
    "df.info()"
   ]
  },
  {
   "cell_type": "code",
   "execution_count": 4,
   "id": "e1c34fdd",
   "metadata": {
    "execution": {
     "iopub.execute_input": "2023-05-28T01:07:52.954259Z",
     "iopub.status.busy": "2023-05-28T01:07:52.953598Z",
     "iopub.status.idle": "2023-05-28T01:07:52.961025Z",
     "shell.execute_reply": "2023-05-28T01:07:52.959662Z"
    },
    "papermill": {
     "duration": 0.01796,
     "end_time": "2023-05-28T01:07:52.963264",
     "exception": false,
     "start_time": "2023-05-28T01:07:52.945304",
     "status": "completed"
    },
    "tags": []
   },
   "outputs": [
    {
     "name": "stdout",
     "output_type": "stream",
     "text": [
      "[1650, 1700, 1836, 1905, 1950, 2000, 2015, 2135, 2145, 2160, 2175, 2176, 2275, 2325, 2398, 2400, 2430, 2475, 2500, 2520, 2550, 2610, 2640, 2650, 2684, 2700, 2747, 2787, 2800, 2817, 2835, 2850, 2856, 2870, 2880, 2910, 2953, 2970, 2990, 3000, 3036, 3040, 3060, 3069, 3090, 3100, 3120, 3150, 3162, 3180, 3185, 3210, 3240, 3264, 3290, 3300, 3350, 3360, 3400, 3410, 3420, 3450, 3460, 3480, 3500, 3510, 3512, 3520, 3540, 3570, 3584, 3600, 3620, 3630, 3635, 3640, 3649, 3650, 3660, 3680, 3700, 3720, 3745, 3750, 3760, 3780, 3792, 3800, 3816, 3840, 3850, 3880, 3900, 3930, 3934, 3960, 3968, 3970, 3986, 3990, 4000, 4032, 4040, 4046, 4050, 4075, 4079, 4080, 4095, 4100, 4120, 4130, 4160, 4200, 4240, 4260, 4280, 4300, 4320, 4340, 4350, 4352, 4360, 4370, 4400, 4410, 4500, 4510, 4520, 4560, 4600, 4632, 4640, 4646, 4700, 4750, 4770, 4775, 4785, 4800, 4815, 4820, 4840, 4880, 4900, 4920, 4950, 4960, 4990, 4992, 4995, 5000, 5010, 5020, 5040, 5076, 5136, 5150, 5170, 5200, 5300, 5320, 5360, 5400, 5450, 5495, 5500, 5600, 5640, 5680, 5700, 5720, 5750, 5800, 5828, 5830, 5850, 5880, 5885, 5900, 5948, 5960, 5985, 6000, 6020, 6040, 6050, 6060, 6100, 6210, 6240, 6254, 6300, 6321, 6325, 6350, 6360, 6400, 6420, 6440, 6450, 6480, 6500, 6525, 6540, 6550, 6600, 6615, 6650, 6660, 6670, 6710, 6720, 6750, 6800, 6825, 6840, 6862, 6900, 6930, 7000, 7020, 7085, 7152, 7155, 7160, 7200, 7231, 7260, 7320, 7350, 7410, 7420, 7424, 7440, 7475, 7482, 7500, 7600, 7680, 7686, 7700, 7770, 7800, 7950, 7980, 8000, 8050, 8080, 8100, 8150, 8250, 8372, 8400, 8500, 8520, 8580, 8800, 8875, 8880, 8960, 9000, 9166, 9500, 9620, 9667, 9800, 9860, 9960, 10240, 10269, 10360, 10500, 10700, 11175, 11410, 11440, 11460, 12090, 12900, 12944, 13200, 15600, 16200]\n"
     ]
    }
   ],
   "source": [
    "print(sorted(df['area'].unique()))"
   ]
  },
  {
   "cell_type": "code",
   "execution_count": 5,
   "id": "a109622a",
   "metadata": {
    "execution": {
     "iopub.execute_input": "2023-05-28T01:07:52.979934Z",
     "iopub.status.busy": "2023-05-28T01:07:52.979014Z",
     "iopub.status.idle": "2023-05-28T01:07:52.993311Z",
     "shell.execute_reply": "2023-05-28T01:07:52.992103Z"
    },
    "papermill": {
     "duration": 0.025743,
     "end_time": "2023-05-28T01:07:52.995575",
     "exception": false,
     "start_time": "2023-05-28T01:07:52.969832",
     "status": "completed"
    },
    "tags": []
   },
   "outputs": [
    {
     "name": "stdout",
     "output_type": "stream",
     "text": [
      "area    545\n",
      "dtype: int64\n",
      "area    2807045\n",
      "dtype: int64\n",
      "area    5150.541284\n",
      "dtype: float64\n"
     ]
    }
   ],
   "source": [
    "print(df[['area']].count())\n",
    "print(df[['area']].sum())\n",
    "print(df[['area']].mean())"
   ]
  },
  {
   "cell_type": "code",
   "execution_count": 6,
   "id": "3c3fcecc",
   "metadata": {
    "execution": {
     "iopub.execute_input": "2023-05-28T01:07:53.011353Z",
     "iopub.status.busy": "2023-05-28T01:07:53.010629Z",
     "iopub.status.idle": "2023-05-28T01:07:53.017777Z",
     "shell.execute_reply": "2023-05-28T01:07:53.016644Z"
    },
    "papermill": {
     "duration": 0.017484,
     "end_time": "2023-05-28T01:07:53.019982",
     "exception": false,
     "start_time": "2023-05-28T01:07:53.002498",
     "status": "completed"
    },
    "tags": []
   },
   "outputs": [
    {
     "name": "stdout",
     "output_type": "stream",
     "text": [
      "[1, 2, 3, 4, 5, 6]\n",
      "545\n",
      "2.9651376146788992\n"
     ]
    }
   ],
   "source": [
    "print(sorted(df['bedrooms'].unique()))\n",
    "print(df['bedrooms'].count())\n",
    "print(df['bedrooms'].mean())"
   ]
  },
  {
   "cell_type": "code",
   "execution_count": 7,
   "id": "7afe51a3",
   "metadata": {
    "execution": {
     "iopub.execute_input": "2023-05-28T01:07:53.035602Z",
     "iopub.status.busy": "2023-05-28T01:07:53.034876Z",
     "iopub.status.idle": "2023-05-28T01:07:53.041853Z",
     "shell.execute_reply": "2023-05-28T01:07:53.040618Z"
    },
    "papermill": {
     "duration": 0.017294,
     "end_time": "2023-05-28T01:07:53.044037",
     "exception": false,
     "start_time": "2023-05-28T01:07:53.026743",
     "status": "completed"
    },
    "tags": []
   },
   "outputs": [
    {
     "name": "stdout",
     "output_type": "stream",
     "text": [
      "[1, 2, 3, 4]\n",
      "545\n",
      "1.2862385321100918\n"
     ]
    }
   ],
   "source": [
    "print(sorted(df['bathrooms'].unique()))\n",
    "print(df['bathrooms'].count())\n",
    "print(df['bathrooms'].mean())"
   ]
  },
  {
   "cell_type": "code",
   "execution_count": 8,
   "id": "2717b5f7",
   "metadata": {
    "execution": {
     "iopub.execute_input": "2023-05-28T01:07:53.059528Z",
     "iopub.status.busy": "2023-05-28T01:07:53.058812Z",
     "iopub.status.idle": "2023-05-28T01:07:53.066159Z",
     "shell.execute_reply": "2023-05-28T01:07:53.064923Z"
    },
    "papermill": {
     "duration": 0.017546,
     "end_time": "2023-05-28T01:07:53.068314",
     "exception": false,
     "start_time": "2023-05-28T01:07:53.050768",
     "status": "completed"
    },
    "tags": []
   },
   "outputs": [
    {
     "name": "stdout",
     "output_type": "stream",
     "text": [
      "[1, 2, 3, 4]\n",
      "545\n",
      "1.8055045871559634\n"
     ]
    }
   ],
   "source": [
    "print(sorted(df['stories'].unique()))\n",
    "print(df['stories'].count())\n",
    "print(df['stories'].mean())"
   ]
  },
  {
   "cell_type": "code",
   "execution_count": 9,
   "id": "095eeed6",
   "metadata": {
    "execution": {
     "iopub.execute_input": "2023-05-28T01:07:53.083946Z",
     "iopub.status.busy": "2023-05-28T01:07:53.083386Z",
     "iopub.status.idle": "2023-05-28T01:07:53.090285Z",
     "shell.execute_reply": "2023-05-28T01:07:53.089035Z"
    },
    "papermill": {
     "duration": 0.017263,
     "end_time": "2023-05-28T01:07:53.092449",
     "exception": false,
     "start_time": "2023-05-28T01:07:53.075186",
     "status": "completed"
    },
    "tags": []
   },
   "outputs": [
    {
     "name": "stdout",
     "output_type": "stream",
     "text": [
      "[0, 1, 2, 3]\n",
      "545\n",
      "0.6935779816513762\n"
     ]
    }
   ],
   "source": [
    "print(sorted(df['parking'].unique()))\n",
    "print(df['parking'].count())\n",
    "print(df['parking'].mean())"
   ]
  },
  {
   "cell_type": "markdown",
   "id": "306515c3",
   "metadata": {
    "papermill": {
     "duration": 0.006749,
     "end_time": "2023-05-28T01:07:53.106616",
     "exception": false,
     "start_time": "2023-05-28T01:07:53.099867",
     "status": "completed"
    },
    "tags": []
   },
   "source": [
    "Till now we have performed mean now lets move on to Trimmed mean. This is caluclated by dropping a fixed number of values at eahc end and taking the average of the remaining values. Trimmed mean is widely used to avoid the iunfluence of outliers. "
   ]
  },
  {
   "cell_type": "markdown",
   "id": "daf8f242",
   "metadata": {
    "papermill": {
     "duration": 0.00672,
     "end_time": "2023-05-28T01:07:53.120203",
     "exception": false,
     "start_time": "2023-05-28T01:07:53.113483",
     "status": "completed"
    },
    "tags": []
   },
   "source": []
  },
  {
   "cell_type": "code",
   "execution_count": 10,
   "id": "5c25ea81",
   "metadata": {
    "execution": {
     "iopub.execute_input": "2023-05-28T01:07:53.137142Z",
     "iopub.status.busy": "2023-05-28T01:07:53.136423Z",
     "iopub.status.idle": "2023-05-28T01:07:54.200872Z",
     "shell.execute_reply": "2023-05-28T01:07:54.199756Z"
    },
    "papermill": {
     "duration": 1.075974,
     "end_time": "2023-05-28T01:07:54.203384",
     "exception": false,
     "start_time": "2023-05-28T01:07:53.127410",
     "status": "completed"
    },
    "tags": []
   },
   "outputs": [],
   "source": [
    "from scipy.stats import trim_mean"
   ]
  },
  {
   "cell_type": "code",
   "execution_count": 11,
   "id": "c1feca0a",
   "metadata": {
    "execution": {
     "iopub.execute_input": "2023-05-28T01:07:54.219025Z",
     "iopub.status.busy": "2023-05-28T01:07:54.218644Z",
     "iopub.status.idle": "2023-05-28T01:07:54.228132Z",
     "shell.execute_reply": "2023-05-28T01:07:54.227194Z"
    },
    "papermill": {
     "duration": 0.019648,
     "end_time": "2023-05-28T01:07:54.230222",
     "exception": false,
     "start_time": "2023-05-28T01:07:54.210574",
     "status": "completed"
    },
    "tags": []
   },
   "outputs": [
    {
     "name": "stdout",
     "output_type": "stream",
     "text": [
      "Trimmed mean of area is  4986.841140529532\n",
      "Trimmed mean of beadrooms is  2.9368635437881876\n",
      "Trimmed mean of bathrooms is  1.2382892057026476\n",
      "Trimmed mean of stories is  1.7291242362525459\n",
      "Trimmed mean of parking is  0.6354378818737271\n"
     ]
    }
   ],
   "source": [
    "print('Trimmed mean of area is ', trim_mean(df['area'],0.05))\n",
    "print('Trimmed mean of beadrooms is ', trim_mean(df['bedrooms'],0.05))\n",
    "print('Trimmed mean of bathrooms is ', trim_mean(df['bathrooms'],0.05))\n",
    "print('Trimmed mean of stories is ', trim_mean(df['stories'],0.05))\n",
    "print('Trimmed mean of parking is ', trim_mean(df['parking'],0.05))"
   ]
  },
  {
   "cell_type": "markdown",
   "id": "84583138",
   "metadata": {
    "papermill": {
     "duration": 0.006818,
     "end_time": "2023-05-28T01:07:54.244212",
     "exception": false,
     "start_time": "2023-05-28T01:07:54.237394",
     "status": "completed"
    },
    "tags": []
   },
   "source": [
    "Now lets caluclate median which return the middle value of a sorted data. Median does not use all observation like mean it just depends on values in the center of the sorted data. Median is genberally refered as robust estimate to location since it is not influenced by outlier that could skew/ bias the results."
   ]
  },
  {
   "cell_type": "code",
   "execution_count": 12,
   "id": "ca109997",
   "metadata": {
    "execution": {
     "iopub.execute_input": "2023-05-28T01:07:54.260484Z",
     "iopub.status.busy": "2023-05-28T01:07:54.259574Z",
     "iopub.status.idle": "2023-05-28T01:07:54.267911Z",
     "shell.execute_reply": "2023-05-28T01:07:54.266994Z"
    },
    "papermill": {
     "duration": 0.019021,
     "end_time": "2023-05-28T01:07:54.270076",
     "exception": false,
     "start_time": "2023-05-28T01:07:54.251055",
     "status": "completed"
    },
    "tags": []
   },
   "outputs": [
    {
     "name": "stdout",
     "output_type": "stream",
     "text": [
      "The median for area is  4600.0\n",
      "The median for bedrooms is  3.0\n",
      "The median for bathrooms is 1.0\n",
      "The median for stories is 2.0\n",
      "The median for parking is 0.0\n"
     ]
    }
   ],
   "source": [
    "print(\"The median for area is \", df['area'].median())\n",
    "print(\"The median for bedrooms is \", df['bedrooms'].median())\n",
    "print(\"The median for bathrooms is\", df['bathrooms'].median())\n",
    "print(\"The median for stories is\", df['stories'].median())\n",
    "print(\"The median for parking is\", df['parking'].median())"
   ]
  },
  {
   "cell_type": "code",
   "execution_count": 13,
   "id": "a3c2b17c",
   "metadata": {
    "execution": {
     "iopub.execute_input": "2023-05-28T01:07:54.286380Z",
     "iopub.status.busy": "2023-05-28T01:07:54.285739Z",
     "iopub.status.idle": "2023-05-28T01:07:54.315607Z",
     "shell.execute_reply": "2023-05-28T01:07:54.314475Z"
    },
    "papermill": {
     "duration": 0.040667,
     "end_time": "2023-05-28T01:07:54.317818",
     "exception": false,
     "start_time": "2023-05-28T01:07:54.277151",
     "status": "completed"
    },
    "tags": []
   },
   "outputs": [
    {
     "data": {
      "text/html": [
       "<div>\n",
       "<style scoped>\n",
       "    .dataframe tbody tr th:only-of-type {\n",
       "        vertical-align: middle;\n",
       "    }\n",
       "\n",
       "    .dataframe tbody tr th {\n",
       "        vertical-align: top;\n",
       "    }\n",
       "\n",
       "    .dataframe thead th {\n",
       "        text-align: right;\n",
       "    }\n",
       "</style>\n",
       "<table border=\"1\" class=\"dataframe\">\n",
       "  <thead>\n",
       "    <tr style=\"text-align: right;\">\n",
       "      <th></th>\n",
       "      <th>price</th>\n",
       "      <th>area</th>\n",
       "      <th>bedrooms</th>\n",
       "      <th>bathrooms</th>\n",
       "      <th>stories</th>\n",
       "      <th>parking</th>\n",
       "    </tr>\n",
       "  </thead>\n",
       "  <tbody>\n",
       "    <tr>\n",
       "      <th>count</th>\n",
       "      <td>5.450000e+02</td>\n",
       "      <td>545.000000</td>\n",
       "      <td>545.000000</td>\n",
       "      <td>545.000000</td>\n",
       "      <td>545.000000</td>\n",
       "      <td>545.000000</td>\n",
       "    </tr>\n",
       "    <tr>\n",
       "      <th>mean</th>\n",
       "      <td>4.766729e+06</td>\n",
       "      <td>5150.541284</td>\n",
       "      <td>2.965138</td>\n",
       "      <td>1.286239</td>\n",
       "      <td>1.805505</td>\n",
       "      <td>0.693578</td>\n",
       "    </tr>\n",
       "    <tr>\n",
       "      <th>std</th>\n",
       "      <td>1.870440e+06</td>\n",
       "      <td>2170.141023</td>\n",
       "      <td>0.738064</td>\n",
       "      <td>0.502470</td>\n",
       "      <td>0.867492</td>\n",
       "      <td>0.861586</td>\n",
       "    </tr>\n",
       "    <tr>\n",
       "      <th>min</th>\n",
       "      <td>1.750000e+06</td>\n",
       "      <td>1650.000000</td>\n",
       "      <td>1.000000</td>\n",
       "      <td>1.000000</td>\n",
       "      <td>1.000000</td>\n",
       "      <td>0.000000</td>\n",
       "    </tr>\n",
       "    <tr>\n",
       "      <th>25%</th>\n",
       "      <td>3.430000e+06</td>\n",
       "      <td>3600.000000</td>\n",
       "      <td>2.000000</td>\n",
       "      <td>1.000000</td>\n",
       "      <td>1.000000</td>\n",
       "      <td>0.000000</td>\n",
       "    </tr>\n",
       "    <tr>\n",
       "      <th>50%</th>\n",
       "      <td>4.340000e+06</td>\n",
       "      <td>4600.000000</td>\n",
       "      <td>3.000000</td>\n",
       "      <td>1.000000</td>\n",
       "      <td>2.000000</td>\n",
       "      <td>0.000000</td>\n",
       "    </tr>\n",
       "    <tr>\n",
       "      <th>75%</th>\n",
       "      <td>5.740000e+06</td>\n",
       "      <td>6360.000000</td>\n",
       "      <td>3.000000</td>\n",
       "      <td>2.000000</td>\n",
       "      <td>2.000000</td>\n",
       "      <td>1.000000</td>\n",
       "    </tr>\n",
       "    <tr>\n",
       "      <th>max</th>\n",
       "      <td>1.330000e+07</td>\n",
       "      <td>16200.000000</td>\n",
       "      <td>6.000000</td>\n",
       "      <td>4.000000</td>\n",
       "      <td>4.000000</td>\n",
       "      <td>3.000000</td>\n",
       "    </tr>\n",
       "  </tbody>\n",
       "</table>\n",
       "</div>"
      ],
      "text/plain": [
       "              price          area    bedrooms   bathrooms     stories  \\\n",
       "count  5.450000e+02    545.000000  545.000000  545.000000  545.000000   \n",
       "mean   4.766729e+06   5150.541284    2.965138    1.286239    1.805505   \n",
       "std    1.870440e+06   2170.141023    0.738064    0.502470    0.867492   \n",
       "min    1.750000e+06   1650.000000    1.000000    1.000000    1.000000   \n",
       "25%    3.430000e+06   3600.000000    2.000000    1.000000    1.000000   \n",
       "50%    4.340000e+06   4600.000000    3.000000    1.000000    2.000000   \n",
       "75%    5.740000e+06   6360.000000    3.000000    2.000000    2.000000   \n",
       "max    1.330000e+07  16200.000000    6.000000    4.000000    4.000000   \n",
       "\n",
       "          parking  \n",
       "count  545.000000  \n",
       "mean     0.693578  \n",
       "std      0.861586  \n",
       "min      0.000000  \n",
       "25%      0.000000  \n",
       "50%      0.000000  \n",
       "75%      1.000000  \n",
       "max      3.000000  "
      ]
     },
     "execution_count": 13,
     "metadata": {},
     "output_type": "execute_result"
    }
   ],
   "source": [
    "df.describe()"
   ]
  },
  {
   "cell_type": "code",
   "execution_count": 14,
   "id": "062df529",
   "metadata": {
    "execution": {
     "iopub.execute_input": "2023-05-28T01:07:54.335013Z",
     "iopub.status.busy": "2023-05-28T01:07:54.334383Z",
     "iopub.status.idle": "2023-05-28T01:07:54.352073Z",
     "shell.execute_reply": "2023-05-28T01:07:54.350932Z"
    },
    "papermill": {
     "duration": 0.029339,
     "end_time": "2023-05-28T01:07:54.354700",
     "exception": false,
     "start_time": "2023-05-28T01:07:54.325361",
     "status": "completed"
    },
    "tags": []
   },
   "outputs": [
    {
     "data": {
      "text/html": [
       "<div>\n",
       "<style scoped>\n",
       "    .dataframe tbody tr th:only-of-type {\n",
       "        vertical-align: middle;\n",
       "    }\n",
       "\n",
       "    .dataframe tbody tr th {\n",
       "        vertical-align: top;\n",
       "    }\n",
       "\n",
       "    .dataframe thead th {\n",
       "        text-align: right;\n",
       "    }\n",
       "</style>\n",
       "<table border=\"1\" class=\"dataframe\">\n",
       "  <thead>\n",
       "    <tr style=\"text-align: right;\">\n",
       "      <th></th>\n",
       "      <th>price</th>\n",
       "      <th>area</th>\n",
       "      <th>bedrooms</th>\n",
       "      <th>bathrooms</th>\n",
       "      <th>stories</th>\n",
       "      <th>mainroad</th>\n",
       "      <th>guestroom</th>\n",
       "      <th>basement</th>\n",
       "      <th>hotwaterheating</th>\n",
       "      <th>airconditioning</th>\n",
       "      <th>parking</th>\n",
       "      <th>prefarea</th>\n",
       "      <th>furnishingstatus</th>\n",
       "    </tr>\n",
       "  </thead>\n",
       "  <tbody>\n",
       "    <tr>\n",
       "      <th>0</th>\n",
       "      <td>13300000</td>\n",
       "      <td>7420</td>\n",
       "      <td>4</td>\n",
       "      <td>2</td>\n",
       "      <td>3</td>\n",
       "      <td>yes</td>\n",
       "      <td>no</td>\n",
       "      <td>no</td>\n",
       "      <td>no</td>\n",
       "      <td>yes</td>\n",
       "      <td>2</td>\n",
       "      <td>yes</td>\n",
       "      <td>furnished</td>\n",
       "    </tr>\n",
       "    <tr>\n",
       "      <th>1</th>\n",
       "      <td>12250000</td>\n",
       "      <td>8960</td>\n",
       "      <td>4</td>\n",
       "      <td>4</td>\n",
       "      <td>4</td>\n",
       "      <td>yes</td>\n",
       "      <td>no</td>\n",
       "      <td>no</td>\n",
       "      <td>no</td>\n",
       "      <td>yes</td>\n",
       "      <td>3</td>\n",
       "      <td>no</td>\n",
       "      <td>furnished</td>\n",
       "    </tr>\n",
       "    <tr>\n",
       "      <th>2</th>\n",
       "      <td>12250000</td>\n",
       "      <td>9960</td>\n",
       "      <td>3</td>\n",
       "      <td>2</td>\n",
       "      <td>2</td>\n",
       "      <td>yes</td>\n",
       "      <td>no</td>\n",
       "      <td>yes</td>\n",
       "      <td>no</td>\n",
       "      <td>no</td>\n",
       "      <td>2</td>\n",
       "      <td>yes</td>\n",
       "      <td>semi-furnished</td>\n",
       "    </tr>\n",
       "    <tr>\n",
       "      <th>3</th>\n",
       "      <td>12215000</td>\n",
       "      <td>7500</td>\n",
       "      <td>4</td>\n",
       "      <td>2</td>\n",
       "      <td>2</td>\n",
       "      <td>yes</td>\n",
       "      <td>no</td>\n",
       "      <td>yes</td>\n",
       "      <td>no</td>\n",
       "      <td>yes</td>\n",
       "      <td>3</td>\n",
       "      <td>yes</td>\n",
       "      <td>furnished</td>\n",
       "    </tr>\n",
       "    <tr>\n",
       "      <th>4</th>\n",
       "      <td>11410000</td>\n",
       "      <td>7420</td>\n",
       "      <td>4</td>\n",
       "      <td>1</td>\n",
       "      <td>2</td>\n",
       "      <td>yes</td>\n",
       "      <td>yes</td>\n",
       "      <td>yes</td>\n",
       "      <td>no</td>\n",
       "      <td>yes</td>\n",
       "      <td>2</td>\n",
       "      <td>no</td>\n",
       "      <td>furnished</td>\n",
       "    </tr>\n",
       "    <tr>\n",
       "      <th>5</th>\n",
       "      <td>10850000</td>\n",
       "      <td>7500</td>\n",
       "      <td>3</td>\n",
       "      <td>3</td>\n",
       "      <td>1</td>\n",
       "      <td>yes</td>\n",
       "      <td>no</td>\n",
       "      <td>yes</td>\n",
       "      <td>no</td>\n",
       "      <td>yes</td>\n",
       "      <td>2</td>\n",
       "      <td>yes</td>\n",
       "      <td>semi-furnished</td>\n",
       "    </tr>\n",
       "    <tr>\n",
       "      <th>6</th>\n",
       "      <td>10150000</td>\n",
       "      <td>8580</td>\n",
       "      <td>4</td>\n",
       "      <td>3</td>\n",
       "      <td>4</td>\n",
       "      <td>yes</td>\n",
       "      <td>no</td>\n",
       "      <td>no</td>\n",
       "      <td>no</td>\n",
       "      <td>yes</td>\n",
       "      <td>2</td>\n",
       "      <td>yes</td>\n",
       "      <td>semi-furnished</td>\n",
       "    </tr>\n",
       "    <tr>\n",
       "      <th>7</th>\n",
       "      <td>10150000</td>\n",
       "      <td>16200</td>\n",
       "      <td>5</td>\n",
       "      <td>3</td>\n",
       "      <td>2</td>\n",
       "      <td>yes</td>\n",
       "      <td>no</td>\n",
       "      <td>no</td>\n",
       "      <td>no</td>\n",
       "      <td>no</td>\n",
       "      <td>0</td>\n",
       "      <td>no</td>\n",
       "      <td>unfurnished</td>\n",
       "    </tr>\n",
       "    <tr>\n",
       "      <th>8</th>\n",
       "      <td>9870000</td>\n",
       "      <td>8100</td>\n",
       "      <td>4</td>\n",
       "      <td>1</td>\n",
       "      <td>2</td>\n",
       "      <td>yes</td>\n",
       "      <td>yes</td>\n",
       "      <td>yes</td>\n",
       "      <td>no</td>\n",
       "      <td>yes</td>\n",
       "      <td>2</td>\n",
       "      <td>yes</td>\n",
       "      <td>furnished</td>\n",
       "    </tr>\n",
       "    <tr>\n",
       "      <th>9</th>\n",
       "      <td>9800000</td>\n",
       "      <td>5750</td>\n",
       "      <td>3</td>\n",
       "      <td>2</td>\n",
       "      <td>4</td>\n",
       "      <td>yes</td>\n",
       "      <td>yes</td>\n",
       "      <td>no</td>\n",
       "      <td>no</td>\n",
       "      <td>yes</td>\n",
       "      <td>1</td>\n",
       "      <td>yes</td>\n",
       "      <td>unfurnished</td>\n",
       "    </tr>\n",
       "  </tbody>\n",
       "</table>\n",
       "</div>"
      ],
      "text/plain": [
       "      price   area  bedrooms  bathrooms  stories mainroad guestroom basement  \\\n",
       "0  13300000   7420         4          2        3      yes        no       no   \n",
       "1  12250000   8960         4          4        4      yes        no       no   \n",
       "2  12250000   9960         3          2        2      yes        no      yes   \n",
       "3  12215000   7500         4          2        2      yes        no      yes   \n",
       "4  11410000   7420         4          1        2      yes       yes      yes   \n",
       "5  10850000   7500         3          3        1      yes        no      yes   \n",
       "6  10150000   8580         4          3        4      yes        no       no   \n",
       "7  10150000  16200         5          3        2      yes        no       no   \n",
       "8   9870000   8100         4          1        2      yes       yes      yes   \n",
       "9   9800000   5750         3          2        4      yes       yes       no   \n",
       "\n",
       "  hotwaterheating airconditioning  parking prefarea furnishingstatus  \n",
       "0              no             yes        2      yes        furnished  \n",
       "1              no             yes        3       no        furnished  \n",
       "2              no              no        2      yes   semi-furnished  \n",
       "3              no             yes        3      yes        furnished  \n",
       "4              no             yes        2       no        furnished  \n",
       "5              no             yes        2      yes   semi-furnished  \n",
       "6              no             yes        2      yes   semi-furnished  \n",
       "7              no              no        0       no      unfurnished  \n",
       "8              no             yes        2      yes        furnished  \n",
       "9              no             yes        1      yes      unfurnished  "
      ]
     },
     "execution_count": 14,
     "metadata": {},
     "output_type": "execute_result"
    }
   ],
   "source": [
    "df.head(10)"
   ]
  },
  {
   "cell_type": "code",
   "execution_count": null,
   "id": "62f93eb6",
   "metadata": {
    "papermill": {
     "duration": 0.007738,
     "end_time": "2023-05-28T01:07:54.370587",
     "exception": false,
     "start_time": "2023-05-28T01:07:54.362849",
     "status": "completed"
    },
    "tags": []
   },
   "outputs": [],
   "source": []
  }
 ],
 "metadata": {
  "kernelspec": {
   "display_name": "Python 3",
   "language": "python",
   "name": "python3"
  },
  "language_info": {
   "codemirror_mode": {
    "name": "ipython",
    "version": 3
   },
   "file_extension": ".py",
   "mimetype": "text/x-python",
   "name": "python",
   "nbconvert_exporter": "python",
   "pygments_lexer": "ipython3",
   "version": "3.10.10"
  },
  "papermill": {
   "default_parameters": {},
   "duration": 13.776309,
   "end_time": "2023-05-28T01:07:55.200799",
   "environment_variables": {},
   "exception": null,
   "input_path": "__notebook__.ipynb",
   "output_path": "__notebook__.ipynb",
   "parameters": {},
   "start_time": "2023-05-28T01:07:41.424490",
   "version": "2.4.0"
  }
 },
 "nbformat": 4,
 "nbformat_minor": 5
}
